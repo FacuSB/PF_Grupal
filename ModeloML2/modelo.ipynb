{
 "cells": [
  {
   "cell_type": "code",
   "execution_count": 15,
   "metadata": {},
   "outputs": [],
   "source": [
    "import pandas as pd\n",
    "from sklearn.metrics.pairwise import cosine_similarity\n",
    "from sklearn.preprocessing import MinMaxScaler\n",
    "import ast"
   ]
  },
  {
   "cell_type": "code",
   "execution_count": 16,
   "metadata": {},
   "outputs": [
    {
     "name": "stdout",
     "output_type": "stream",
     "text": [
      "<class 'pandas.core.frame.DataFrame'>\n",
      "RangeIndex: 114118 entries, 0 to 114117\n",
      "Data columns (total 15 columns):\n",
      " #   Column        Non-Null Count   Dtype  \n",
      "---  ------        --------------   -----  \n",
      " 0   Unnamed: 0    114118 non-null  int64  \n",
      " 1   business_id   114118 non-null  object \n",
      " 2   name          114118 non-null  object \n",
      " 3   address       114118 non-null  object \n",
      " 4   city          114118 non-null  object \n",
      " 5   state         114118 non-null  object \n",
      " 6   postal_code   114118 non-null  object \n",
      " 7   latitude      114118 non-null  float64\n",
      " 8   longitude     114118 non-null  float64\n",
      " 9   stars         114118 non-null  float64\n",
      " 10  review_count  114118 non-null  int64  \n",
      " 11  is_open       114118 non-null  int64  \n",
      " 12  attributes    114118 non-null  object \n",
      " 13  categories    114118 non-null  object \n",
      " 14  hours         114118 non-null  object \n",
      "dtypes: float64(3), int64(3), object(9)\n",
      "memory usage: 13.1+ MB\n"
     ]
    }
   ],
   "source": [
    "df_business= pd.read_csv(\"./databusinessML2.csv\")\n",
    "df_business.info()"
   ]
  },
  {
   "cell_type": "code",
   "execution_count": 23,
   "metadata": {},
   "outputs": [
    {
     "data": {
      "text/html": [
       "<div>\n",
       "<style scoped>\n",
       "    .dataframe tbody tr th:only-of-type {\n",
       "        vertical-align: middle;\n",
       "    }\n",
       "\n",
       "    .dataframe tbody tr th {\n",
       "        vertical-align: top;\n",
       "    }\n",
       "\n",
       "    .dataframe thead th {\n",
       "        text-align: right;\n",
       "    }\n",
       "</style>\n",
       "<table border=\"1\" class=\"dataframe\">\n",
       "  <thead>\n",
       "    <tr style=\"text-align: right;\">\n",
       "      <th></th>\n",
       "      <th>Unnamed: 0</th>\n",
       "      <th>stars</th>\n",
       "      <th>attributes</th>\n",
       "      <th>categories</th>\n",
       "    </tr>\n",
       "  </thead>\n",
       "  <tbody>\n",
       "    <tr>\n",
       "      <th>0</th>\n",
       "      <td>0</td>\n",
       "      <td>4.0</td>\n",
       "      <td>{'RestaurantsDelivery': 'False', 'OutdoorSeati...</td>\n",
       "      <td>Restaurants, Food, Bubble Tea, Coffee &amp; Tea, B...</td>\n",
       "    </tr>\n",
       "    <tr>\n",
       "      <th>1</th>\n",
       "      <td>1</td>\n",
       "      <td>4.5</td>\n",
       "      <td>{'BusinessAcceptsCreditCards': 'True', 'Wheelc...</td>\n",
       "      <td>Brewpubs, Breweries, Food</td>\n",
       "    </tr>\n",
       "    <tr>\n",
       "      <th>2</th>\n",
       "      <td>2</td>\n",
       "      <td>2.0</td>\n",
       "      <td>{'BusinessParking': 'None', 'BusinessAcceptsCr...</td>\n",
       "      <td>Burgers, Fast Food, Sandwiches, Food, Ice Crea...</td>\n",
       "    </tr>\n",
       "    <tr>\n",
       "      <th>3</th>\n",
       "      <td>3</td>\n",
       "      <td>2.5</td>\n",
       "      <td>{'BusinessAcceptsCreditCards': 'True', 'Restau...</td>\n",
       "      <td>Sporting Goods, Fashion, Shoe Stores, Shopping...</td>\n",
       "    </tr>\n",
       "    <tr>\n",
       "      <th>4</th>\n",
       "      <td>4</td>\n",
       "      <td>1.5</td>\n",
       "      <td>{'RestaurantsAttire': \"'casual'\", 'Restaurants...</td>\n",
       "      <td>Ice Cream &amp; Frozen Yogurt, Fast Food, Burgers,...</td>\n",
       "    </tr>\n",
       "  </tbody>\n",
       "</table>\n",
       "</div>"
      ],
      "text/plain": [
       "   Unnamed: 0  stars                                         attributes  \\\n",
       "0           0    4.0  {'RestaurantsDelivery': 'False', 'OutdoorSeati...   \n",
       "1           1    4.5  {'BusinessAcceptsCreditCards': 'True', 'Wheelc...   \n",
       "2           2    2.0  {'BusinessParking': 'None', 'BusinessAcceptsCr...   \n",
       "3           3    2.5  {'BusinessAcceptsCreditCards': 'True', 'Restau...   \n",
       "4           4    1.5  {'RestaurantsAttire': \"'casual'\", 'Restaurants...   \n",
       "\n",
       "                                          categories  \n",
       "0  Restaurants, Food, Bubble Tea, Coffee & Tea, B...  \n",
       "1                          Brewpubs, Breweries, Food  \n",
       "2  Burgers, Fast Food, Sandwiches, Food, Ice Crea...  \n",
       "3  Sporting Goods, Fashion, Shoe Stores, Shopping...  \n",
       "4  Ice Cream & Frozen Yogurt, Fast Food, Burgers,...  "
      ]
     },
     "execution_count": 23,
     "metadata": {},
     "output_type": "execute_result"
    }
   ],
   "source": [
    "df_business.head()"
   ]
  },
  {
   "cell_type": "code",
   "execution_count": null,
   "metadata": {},
   "outputs": [],
   "source": [
    "df_business=df_business.drop(columns=['business_id','name','address','city','state','postal_code','latitude','longitude','review_count','is_open','hours'])"
   ]
  },
  {
   "cell_type": "code",
   "execution_count": 26,
   "metadata": {},
   "outputs": [
    {
     "data": {
      "text/html": [
       "<div>\n",
       "<style scoped>\n",
       "    .dataframe tbody tr th:only-of-type {\n",
       "        vertical-align: middle;\n",
       "    }\n",
       "\n",
       "    .dataframe tbody tr th {\n",
       "        vertical-align: top;\n",
       "    }\n",
       "\n",
       "    .dataframe thead th {\n",
       "        text-align: right;\n",
       "    }\n",
       "</style>\n",
       "<table border=\"1\" class=\"dataframe\">\n",
       "  <thead>\n",
       "    <tr style=\"text-align: right;\">\n",
       "      <th></th>\n",
       "      <th>Unnamed: 0</th>\n",
       "      <th>stars</th>\n",
       "      <th>attributes</th>\n",
       "      <th>categories</th>\n",
       "    </tr>\n",
       "  </thead>\n",
       "  <tbody>\n",
       "    <tr>\n",
       "      <th>0</th>\n",
       "      <td>0</td>\n",
       "      <td>4.0</td>\n",
       "      <td>{'RestaurantsDelivery': 'False', 'OutdoorSeati...</td>\n",
       "      <td>Restaurants, Food, Bubble Tea, Coffee &amp; Tea, B...</td>\n",
       "    </tr>\n",
       "    <tr>\n",
       "      <th>1</th>\n",
       "      <td>1</td>\n",
       "      <td>4.5</td>\n",
       "      <td>{'BusinessAcceptsCreditCards': 'True', 'Wheelc...</td>\n",
       "      <td>Brewpubs, Breweries, Food</td>\n",
       "    </tr>\n",
       "    <tr>\n",
       "      <th>2</th>\n",
       "      <td>2</td>\n",
       "      <td>2.0</td>\n",
       "      <td>{'BusinessParking': 'None', 'BusinessAcceptsCr...</td>\n",
       "      <td>Burgers, Fast Food, Sandwiches, Food, Ice Crea...</td>\n",
       "    </tr>\n",
       "    <tr>\n",
       "      <th>3</th>\n",
       "      <td>3</td>\n",
       "      <td>2.5</td>\n",
       "      <td>{'BusinessAcceptsCreditCards': 'True', 'Restau...</td>\n",
       "      <td>Sporting Goods, Fashion, Shoe Stores, Shopping...</td>\n",
       "    </tr>\n",
       "    <tr>\n",
       "      <th>4</th>\n",
       "      <td>4</td>\n",
       "      <td>1.5</td>\n",
       "      <td>{'RestaurantsAttire': \"'casual'\", 'Restaurants...</td>\n",
       "      <td>Ice Cream &amp; Frozen Yogurt, Fast Food, Burgers,...</td>\n",
       "    </tr>\n",
       "  </tbody>\n",
       "</table>\n",
       "</div>"
      ],
      "text/plain": [
       "   Unnamed: 0  stars                                         attributes  \\\n",
       "0           0    4.0  {'RestaurantsDelivery': 'False', 'OutdoorSeati...   \n",
       "1           1    4.5  {'BusinessAcceptsCreditCards': 'True', 'Wheelc...   \n",
       "2           2    2.0  {'BusinessParking': 'None', 'BusinessAcceptsCr...   \n",
       "3           3    2.5  {'BusinessAcceptsCreditCards': 'True', 'Restau...   \n",
       "4           4    1.5  {'RestaurantsAttire': \"'casual'\", 'Restaurants...   \n",
       "\n",
       "                                          categories  \n",
       "0  Restaurants, Food, Bubble Tea, Coffee & Tea, B...  \n",
       "1                          Brewpubs, Breweries, Food  \n",
       "2  Burgers, Fast Food, Sandwiches, Food, Ice Crea...  \n",
       "3  Sporting Goods, Fashion, Shoe Stores, Shopping...  \n",
       "4  Ice Cream & Frozen Yogurt, Fast Food, Burgers,...  "
      ]
     },
     "execution_count": 26,
     "metadata": {},
     "output_type": "execute_result"
    }
   ],
   "source": [
    "df_business.head()"
   ]
  },
  {
   "cell_type": "code",
   "execution_count": 20,
   "metadata": {},
   "outputs": [],
   "source": [
    "df_business.to_csv('./businessmodelo.csv')"
   ]
  },
  {
   "cell_type": "code",
   "execution_count": null,
   "metadata": {},
   "outputs": [],
   "source": []
  }
 ],
 "metadata": {
  "kernelspec": {
   "display_name": "Python 3",
   "language": "python",
   "name": "python3"
  },
  "language_info": {
   "codemirror_mode": {
    "name": "ipython",
    "version": 3
   },
   "file_extension": ".py",
   "mimetype": "text/x-python",
   "name": "python",
   "nbconvert_exporter": "python",
   "pygments_lexer": "ipython3",
   "version": "3.10.11"
  }
 },
 "nbformat": 4,
 "nbformat_minor": 2
}
