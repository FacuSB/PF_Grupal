{
 "cells": [
  {
   "cell_type": "code",
   "execution_count": 26,
   "metadata": {},
   "outputs": [],
   "source": [
    "import pandas as pd\n",
    "from sklearn.metrics.pairwise import cosine_similarity\n",
    "from sklearn.preprocessing import MinMaxScaler"
   ]
  },
  {
   "cell_type": "code",
   "execution_count": 27,
   "metadata": {},
   "outputs": [],
   "source": [
    "#leer el archivo csv en un dataframe\n",
    "df_usuarios = pd.read_csv('./userID.csv')\n",
    "df_stars = pd.read_csv('./StarsCategories.csv')"
   ]
  },
  {
   "cell_type": "code",
   "execution_count": 28,
   "metadata": {},
   "outputs": [
    {
     "data": {
      "text/html": [
       "<div>\n",
       "<style scoped>\n",
       "    .dataframe tbody tr th:only-of-type {\n",
       "        vertical-align: middle;\n",
       "    }\n",
       "\n",
       "    .dataframe tbody tr th {\n",
       "        vertical-align: top;\n",
       "    }\n",
       "\n",
       "    .dataframe thead th {\n",
       "        text-align: right;\n",
       "    }\n",
       "</style>\n",
       "<table border=\"1\" class=\"dataframe\">\n",
       "  <thead>\n",
       "    <tr style=\"text-align: right;\">\n",
       "      <th></th>\n",
       "      <th>user_id</th>\n",
       "    </tr>\n",
       "  </thead>\n",
       "  <tbody>\n",
       "    <tr>\n",
       "      <th>0</th>\n",
       "      <td>mh_-eMZ6K5RLWhZyISBhwA</td>\n",
       "    </tr>\n",
       "    <tr>\n",
       "      <th>1</th>\n",
       "      <td>OyoGAe7OKpv6SyGZT5g77Q</td>\n",
       "    </tr>\n",
       "    <tr>\n",
       "      <th>2</th>\n",
       "      <td>8g_iMtfSiwikVnbP2etR0A</td>\n",
       "    </tr>\n",
       "    <tr>\n",
       "      <th>3</th>\n",
       "      <td>_7bHUi9Uuf5__HHc_Q8guQ</td>\n",
       "    </tr>\n",
       "    <tr>\n",
       "      <th>4</th>\n",
       "      <td>bcjbaE6dDog4jkNY91ncLQ</td>\n",
       "    </tr>\n",
       "  </tbody>\n",
       "</table>\n",
       "</div>"
      ],
      "text/plain": [
       "                  user_id\n",
       "0  mh_-eMZ6K5RLWhZyISBhwA\n",
       "1  OyoGAe7OKpv6SyGZT5g77Q\n",
       "2  8g_iMtfSiwikVnbP2etR0A\n",
       "3  _7bHUi9Uuf5__HHc_Q8guQ\n",
       "4  bcjbaE6dDog4jkNY91ncLQ"
      ]
     },
     "execution_count": 28,
     "metadata": {},
     "output_type": "execute_result"
    }
   ],
   "source": [
    "df_usuarios.head()"
   ]
  },
  {
   "cell_type": "code",
   "execution_count": 29,
   "metadata": {},
   "outputs": [
    {
     "data": {
      "text/html": [
       "<div>\n",
       "<style scoped>\n",
       "    .dataframe tbody tr th:only-of-type {\n",
       "        vertical-align: middle;\n",
       "    }\n",
       "\n",
       "    .dataframe tbody tr th {\n",
       "        vertical-align: top;\n",
       "    }\n",
       "\n",
       "    .dataframe thead th {\n",
       "        text-align: right;\n",
       "    }\n",
       "</style>\n",
       "<table border=\"1\" class=\"dataframe\">\n",
       "  <thead>\n",
       "    <tr style=\"text-align: right;\">\n",
       "      <th></th>\n",
       "      <th>Unnamed: 0.1</th>\n",
       "      <th>Unnamed: 0</th>\n",
       "      <th>stars</th>\n",
       "      <th>attributes</th>\n",
       "      <th>categories</th>\n",
       "    </tr>\n",
       "  </thead>\n",
       "  <tbody>\n",
       "    <tr>\n",
       "      <th>0</th>\n",
       "      <td>0</td>\n",
       "      <td>0</td>\n",
       "      <td>4.0</td>\n",
       "      <td>{'RestaurantsDelivery': 'False', 'OutdoorSeati...</td>\n",
       "      <td>Restaurants, Food, Bubble Tea, Coffee &amp; Tea, B...</td>\n",
       "    </tr>\n",
       "    <tr>\n",
       "      <th>1</th>\n",
       "      <td>1</td>\n",
       "      <td>1</td>\n",
       "      <td>4.5</td>\n",
       "      <td>{'BusinessAcceptsCreditCards': 'True', 'Wheelc...</td>\n",
       "      <td>Brewpubs, Breweries, Food</td>\n",
       "    </tr>\n",
       "    <tr>\n",
       "      <th>2</th>\n",
       "      <td>2</td>\n",
       "      <td>2</td>\n",
       "      <td>2.0</td>\n",
       "      <td>{'BusinessParking': 'None', 'BusinessAcceptsCr...</td>\n",
       "      <td>Burgers, Fast Food, Sandwiches, Food, Ice Crea...</td>\n",
       "    </tr>\n",
       "    <tr>\n",
       "      <th>3</th>\n",
       "      <td>3</td>\n",
       "      <td>3</td>\n",
       "      <td>2.5</td>\n",
       "      <td>{'BusinessAcceptsCreditCards': 'True', 'Restau...</td>\n",
       "      <td>Sporting Goods, Fashion, Shoe Stores, Shopping...</td>\n",
       "    </tr>\n",
       "    <tr>\n",
       "      <th>4</th>\n",
       "      <td>4</td>\n",
       "      <td>4</td>\n",
       "      <td>1.5</td>\n",
       "      <td>{'RestaurantsAttire': \"'casual'\", 'Restaurants...</td>\n",
       "      <td>Ice Cream &amp; Frozen Yogurt, Fast Food, Burgers,...</td>\n",
       "    </tr>\n",
       "  </tbody>\n",
       "</table>\n",
       "</div>"
      ],
      "text/plain": [
       "   Unnamed: 0.1  Unnamed: 0  stars  \\\n",
       "0             0           0    4.0   \n",
       "1             1           1    4.5   \n",
       "2             2           2    2.0   \n",
       "3             3           3    2.5   \n",
       "4             4           4    1.5   \n",
       "\n",
       "                                          attributes  \\\n",
       "0  {'RestaurantsDelivery': 'False', 'OutdoorSeati...   \n",
       "1  {'BusinessAcceptsCreditCards': 'True', 'Wheelc...   \n",
       "2  {'BusinessParking': 'None', 'BusinessAcceptsCr...   \n",
       "3  {'BusinessAcceptsCreditCards': 'True', 'Restau...   \n",
       "4  {'RestaurantsAttire': \"'casual'\", 'Restaurants...   \n",
       "\n",
       "                                          categories  \n",
       "0  Restaurants, Food, Bubble Tea, Coffee & Tea, B...  \n",
       "1                          Brewpubs, Breweries, Food  \n",
       "2  Burgers, Fast Food, Sandwiches, Food, Ice Crea...  \n",
       "3  Sporting Goods, Fashion, Shoe Stores, Shopping...  \n",
       "4  Ice Cream & Frozen Yogurt, Fast Food, Burgers,...  "
      ]
     },
     "execution_count": 29,
     "metadata": {},
     "output_type": "execute_result"
    }
   ],
   "source": [
    "df_stars.head()"
   ]
  },
  {
   "cell_type": "code",
   "execution_count": null,
   "metadata": {},
   "outputs": [],
   "source": [
    "#creacion de matriz entre usuario y categorias\n",
    "matriz_usuario = df_usuarios.merge(df_stars,how='outer',on ='categories')\n",
    "matriz_puntuaciones = pd.pivot_table(matriz_usuario, values='stars', index='user_id', columns='categories')\n",
    "matriz_puntuaciones = matriz_puntuaciones.fillna(0)\n",
    "print(matriz_puntuaciones)"
   ]
  },
  {
   "cell_type": "code",
   "execution_count": null,
   "metadata": {},
   "outputs": [],
   "source": [
    "#calcular la similitud entre usuarios \n",
    "usuarios_similares = cosine_similarity(matriz_usuario.drop(['user_id', 'categories'], axis=1))\n"
   ]
  },
  {
   "cell_type": "code",
   "execution_count": null,
   "metadata": {},
   "outputs": [],
   "source": [
    "#identificar usuarios similares \n",
    "usuario_actual= 0\n",
    "umbral_similitud=0.7 #umbral para considerar si su similitud de coseno es mayor que 0.7\n",
    "\n",
    "usuarios_similares_idx = usuarios_similares[usuario_actual].argsort()[::-1][1:]  # Excluye el usuario actual y ordena por similitud descendente\n",
    "usuarios_similares_filtrados = usuarios_similares_idx[usuarios_similares[usuario_actual, usuarios_similares_idx] > umbral_similitud]"
   ]
  },
  {
   "cell_type": "code",
   "execution_count": null,
   "metadata": {},
   "outputs": [],
   "source": [
    "#generamos recomendaciones \n",
    "\n",
    "categorias_visitadas = matriz_usuario[matriz_usuario['user_id'] == usuario_actual]['categories']\n",
    "categorias_similares = matriz_usuario[matriz_usuario['user_id'].isin(usuarios_similares_filtrados)]['categories']\n",
    "categorias_recomendadas = categorias_similares[~categorias_similares.isin(categorias_visitadas)].value_counts().index"
   ]
  },
  {
   "cell_type": "code",
   "execution_count": null,
   "metadata": {},
   "outputs": [],
   "source": [
    "#le damos las recomendaciones al usuario \n",
    "print(\"la recomendacion para el usuario es\", usuario_actual)\n",
    "for categoria in categorias_recomendadas:\n",
    "    print(\"- Categories:\", categoria)"
   ]
  }
 ],
 "metadata": {
  "kernelspec": {
   "display_name": "Python 3",
   "language": "python",
   "name": "python3"
  },
  "language_info": {
   "codemirror_mode": {
    "name": "ipython",
    "version": 3
   },
   "file_extension": ".py",
   "mimetype": "text/x-python",
   "name": "python",
   "nbconvert_exporter": "python",
   "pygments_lexer": "ipython3",
   "version": "3.10.11"
  }
 },
 "nbformat": 4,
 "nbformat_minor": 2
}
